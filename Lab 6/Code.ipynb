{
 "cells": [
  {
   "cell_type": "code",
   "execution_count": 0,
   "metadata": {
    "colab": {},
    "colab_type": "code",
    "id": "j1U5qIOoMGOr"
   },
   "outputs": [],
   "source": [
    "from __future__ import print_function\n",
    "import keras\n",
    "from keras.datasets import cifar10\n",
    "from keras.preprocessing.image import ImageDataGenerator\n",
    "from keras.models import Sequential\n",
    "from keras.layers import Dense, Dropout, Activation, Flatten\n",
    "from keras.layers import Conv2D, MaxPooling2D\n",
    "import os\n",
    "import pandas as pd\n",
    "from matplotlib import pyplot as plt\n",
    "import numpy as np"
   ]
  },
  {
   "cell_type": "code",
   "execution_count": 0,
   "metadata": {
    "colab": {},
    "colab_type": "code",
    "id": "BSigaDseMYDP"
   },
   "outputs": [],
   "source": [
    "batch_size = 32\n",
    "num_classes = 10\n",
    "epochs = 10\n",
    "data_augmentation = True\n",
    "num_predictions = 20\n",
    "save_dir = os.path.join(os.getcwd(), 'saved_models')\n",
    "model_name = 'keras_cifar10_trained_model.h5'"
   ]
  },
  {
   "cell_type": "code",
   "execution_count": 36,
   "metadata": {
    "colab": {
     "base_uri": "https://localhost:8080/",
     "height": 68
    },
    "colab_type": "code",
    "id": "HGxVahiYMawe",
    "outputId": "766f1c45-5469-4707-de7f-7f433d792d11"
   },
   "outputs": [
    {
     "name": "stdout",
     "output_type": "stream",
     "text": [
      "x_train shape: (50000, 32, 32, 3)\n",
      "50000 train samples\n",
      "10000 test samples\n"
     ]
    }
   ],
   "source": [
    "(x_train, y_train), (x_test, y_test) = cifar10.load_data()\n",
    "print('x_train shape:', x_train.shape)\n",
    "print(x_train.shape[0], 'train samples')\n",
    "print(x_test.shape[0], 'test samples')\n",
    "y_train = keras.utils.to_categorical(y_train, num_classes)\n",
    "y_test = keras.utils.to_categorical(y_test, num_classes)"
   ]
  },
  {
   "cell_type": "code",
   "execution_count": 4,
   "metadata": {
    "colab": {
     "base_uri": "https://localhost:8080/",
     "height": 258
    },
    "colab_type": "code",
    "id": "bda_hUdyJeQB",
    "outputId": "454c4732-e0b7-48f5-cb7e-b95995ba51bd"
   },
   "outputs": [
    {
     "name": "stdout",
     "output_type": "stream",
     "text": [
      "WARNING:tensorflow:From /usr/local/lib/python3.6/dist-packages/keras/backend/tensorflow_backend.py:66: The name tf.get_default_graph is deprecated. Please use tf.compat.v1.get_default_graph instead.\n",
      "\n",
      "WARNING:tensorflow:From /usr/local/lib/python3.6/dist-packages/keras/backend/tensorflow_backend.py:541: The name tf.placeholder is deprecated. Please use tf.compat.v1.placeholder instead.\n",
      "\n",
      "WARNING:tensorflow:From /usr/local/lib/python3.6/dist-packages/keras/backend/tensorflow_backend.py:4432: The name tf.random_uniform is deprecated. Please use tf.random.uniform instead.\n",
      "\n",
      "WARNING:tensorflow:From /usr/local/lib/python3.6/dist-packages/keras/backend/tensorflow_backend.py:4267: The name tf.nn.max_pool is deprecated. Please use tf.nn.max_pool2d instead.\n",
      "\n",
      "WARNING:tensorflow:From /usr/local/lib/python3.6/dist-packages/keras/backend/tensorflow_backend.py:148: The name tf.placeholder_with_default is deprecated. Please use tf.compat.v1.placeholder_with_default instead.\n",
      "\n",
      "WARNING:tensorflow:From /usr/local/lib/python3.6/dist-packages/keras/backend/tensorflow_backend.py:3733: calling dropout (from tensorflow.python.ops.nn_ops) with keep_prob is deprecated and will be removed in a future version.\n",
      "Instructions for updating:\n",
      "Please use `rate` instead of `keep_prob`. Rate should be set to `rate = 1 - keep_prob`.\n"
     ]
    }
   ],
   "source": [
    "model1 = Sequential()\n",
    "model1.add(Conv2D(32, (3, 3), padding='same',\n",
    "                 input_shape=x_train.shape[1:]))\n",
    "model1.add(Activation('relu'))\n",
    "model1.add(Conv2D(32, (3, 3)))\n",
    "model1.add(Activation('relu'))\n",
    "model1.add(MaxPooling2D(pool_size=(2, 2)))\n",
    "model1.add(Dropout(0.25))\n",
    "\n",
    "model1.add(Conv2D(64, (3, 3), padding='same'))\n",
    "model1.add(Activation('relu'))\n",
    "model1.add(Conv2D(64, (3, 3)))\n",
    "model1.add(Activation('relu'))\n",
    "model1.add(MaxPooling2D(pool_size=(2, 2)))\n",
    "model1.add(Dropout(0.25))\n",
    "\n",
    "model1.add(Flatten())\n",
    "model1.add(Dense(512))\n",
    "model1.add(Activation('relu'))\n",
    "model1.add(Dropout(0.5))\n",
    "model1.add(Dense(num_classes))\n",
    "model1.add(Activation('softmax'))"
   ]
  },
  {
   "cell_type": "code",
   "execution_count": 5,
   "metadata": {
    "colab": {
     "base_uri": "https://localhost:8080/",
     "height": 105
    },
    "colab_type": "code",
    "id": "l51bRYzCJiGA",
    "outputId": "76c2b9cd-d5a4-47c7-bb48-92272307984e"
   },
   "outputs": [
    {
     "name": "stdout",
     "output_type": "stream",
     "text": [
      "WARNING:tensorflow:From /usr/local/lib/python3.6/dist-packages/keras/optimizers.py:793: The name tf.train.Optimizer is deprecated. Please use tf.compat.v1.train.Optimizer instead.\n",
      "\n",
      "WARNING:tensorflow:From /usr/local/lib/python3.6/dist-packages/keras/backend/tensorflow_backend.py:3576: The name tf.log is deprecated. Please use tf.math.log instead.\n",
      "\n"
     ]
    }
   ],
   "source": [
    "opt = keras.optimizers.RMSprop(lr=0.0001, decay=1e-6)\n",
    "\n",
    "# Let's train the model using RMSprop\n",
    "model1.compile(loss='categorical_crossentropy',\n",
    "              optimizer=opt,\n",
    "              metrics=['accuracy']) "
   ]
  },
  {
   "cell_type": "code",
   "execution_count": 6,
   "metadata": {
    "colab": {
     "base_uri": "https://localhost:8080/",
     "height": 34
    },
    "colab_type": "code",
    "id": "kDZjGzsPJmnF",
    "outputId": "26f4115b-354f-4ee6-8c3f-56996a1ff3ef"
   },
   "outputs": [
    {
     "name": "stdout",
     "output_type": "stream",
     "text": [
      "Using real-time data augmentation.\n"
     ]
    }
   ],
   "source": [
    "x_train = x_train.astype('float32')\n",
    "x_test = x_test.astype('float32')\n",
    "x_train /= 255\n",
    "x_test /= 255\n",
    "\n",
    "if not data_augmentation:\n",
    "    print('Not using data augmentation.')\n",
    "    model.fit(x_train, y_train,\n",
    "              batch_size=batch_size,\n",
    "              epochs=epochs,\n",
    "              validation_data=(x_test, y_test),\n",
    "              shuffle=True)\n",
    "else:\n",
    "    print('Using real-time data augmentation.')\n",
    "    # This will do preprocessing and realtime data augmentation:\n",
    "    datagen = ImageDataGenerator(\n",
    "        featurewise_center=False,  # set input mean to 0 over the dataset\n",
    "        samplewise_center=False,  # set each sample mean to 0\n",
    "        featurewise_std_normalization=False,  # divide inputs by std of the dataset\n",
    "        samplewise_std_normalization=False,  # divide each input by its std\n",
    "        zca_whitening=False,  # apply ZCA whitening\n",
    "        zca_epsilon=1e-06,  # epsilon for ZCA whitening\n",
    "        rotation_range=0,  # randomly rotate images in the range (degrees, 0 to 180)\n",
    "        # randomly shift images horizontally (fraction of total width)\n",
    "        width_shift_range=0.1,\n",
    "        # randomly shift images vertically (fraction of total height)\n",
    "        height_shift_range=0.1,\n",
    "        shear_range=0.,  # set range for random shear\n",
    "        zoom_range=0.,  # set range for random zoom\n",
    "        channel_shift_range=0.,  # set range for random channel shifts\n",
    "        # set mode for filling points outside the input boundaries\n",
    "        fill_mode='nearest',\n",
    "        cval=0.,  # value used for fill_mode = \"constant\"\n",
    "        horizontal_flip=True,  # randomly flip images\n",
    "        vertical_flip=False,  # randomly flip images\n",
    "        # set rescaling factor (applied before any other transformation)\n",
    "        rescale=None,\n",
    "        # set function that will be applied on each input\n",
    "        preprocessing_function=None,\n",
    "        # image data format, either \"channels_first\" or \"channels_last\"\n",
    "        data_format=None,\n",
    "        # fraction of images reserved for validation (strictly between 0 and 1)\n",
    "        validation_split=0.0)\n",
    "\n",
    "    # Compute quantities required for feature-wise normalization\n",
    "    # (std, mean, and principal components if ZCA whitening is applied).\n",
    "    datagen.fit(x_train)\n",
    "\n",
    "    # Fit the model on the batches generated by datagen.flow().\n",
    "   "
   ]
  },
  {
   "cell_type": "code",
   "execution_count": 7,
   "metadata": {
    "colab": {
     "base_uri": "https://localhost:8080/",
     "height": 700
    },
    "colab_type": "code",
    "id": "uN9gEau9KCBF",
    "outputId": "1aa8d477-8148-4707-b799-80bce3822f81"
   },
   "outputs": [
    {
     "name": "stdout",
     "output_type": "stream",
     "text": [
      "WARNING:tensorflow:From /usr/local/lib/python3.6/dist-packages/tensorflow_core/python/ops/math_grad.py:1424: where (from tensorflow.python.ops.array_ops) is deprecated and will be removed in a future version.\n",
      "Instructions for updating:\n",
      "Use tf.where in 2.0, which has the same broadcast rule as np.where\n",
      "WARNING:tensorflow:From /usr/local/lib/python3.6/dist-packages/keras/backend/tensorflow_backend.py:1033: The name tf.assign_add is deprecated. Please use tf.compat.v1.assign_add instead.\n",
      "\n",
      "WARNING:tensorflow:From /usr/local/lib/python3.6/dist-packages/keras/backend/tensorflow_backend.py:1020: The name tf.assign is deprecated. Please use tf.compat.v1.assign instead.\n",
      "\n",
      "WARNING:tensorflow:From /usr/local/lib/python3.6/dist-packages/keras/backend/tensorflow_backend.py:3005: The name tf.Session is deprecated. Please use tf.compat.v1.Session instead.\n",
      "\n",
      "Epoch 1/10\n",
      "WARNING:tensorflow:From /usr/local/lib/python3.6/dist-packages/keras/backend/tensorflow_backend.py:190: The name tf.get_default_session is deprecated. Please use tf.compat.v1.get_default_session instead.\n",
      "\n",
      "WARNING:tensorflow:From /usr/local/lib/python3.6/dist-packages/keras/backend/tensorflow_backend.py:197: The name tf.ConfigProto is deprecated. Please use tf.compat.v1.ConfigProto instead.\n",
      "\n",
      "WARNING:tensorflow:From /usr/local/lib/python3.6/dist-packages/keras/backend/tensorflow_backend.py:207: The name tf.global_variables is deprecated. Please use tf.compat.v1.global_variables instead.\n",
      "\n",
      "WARNING:tensorflow:From /usr/local/lib/python3.6/dist-packages/keras/backend/tensorflow_backend.py:216: The name tf.is_variable_initialized is deprecated. Please use tf.compat.v1.is_variable_initialized instead.\n",
      "\n",
      "WARNING:tensorflow:From /usr/local/lib/python3.6/dist-packages/keras/backend/tensorflow_backend.py:223: The name tf.variables_initializer is deprecated. Please use tf.compat.v1.variables_initializer instead.\n",
      "\n",
      "1563/1563 [==============================] - 291s 186ms/step - loss: 1.8732 - acc: 0.3092 - val_loss: 1.6034 - val_acc: 0.4180\n",
      "Epoch 2/10\n",
      "1563/1563 [==============================] - 293s 188ms/step - loss: 1.5928 - acc: 0.4156 - val_loss: 1.4065 - val_acc: 0.4946\n",
      "Epoch 3/10\n",
      "1563/1563 [==============================] - 294s 188ms/step - loss: 1.4760 - acc: 0.4645 - val_loss: 1.3000 - val_acc: 0.5370\n",
      "Epoch 4/10\n",
      "1563/1563 [==============================] - 294s 188ms/step - loss: 1.4000 - acc: 0.4957 - val_loss: 1.2488 - val_acc: 0.5597\n",
      "Epoch 5/10\n",
      "1563/1563 [==============================] - 297s 190ms/step - loss: 1.3283 - acc: 0.5278 - val_loss: 1.1708 - val_acc: 0.5924\n",
      "Epoch 6/10\n",
      "1563/1563 [==============================] - 300s 192ms/step - loss: 1.2739 - acc: 0.5466 - val_loss: 1.1219 - val_acc: 0.6095\n",
      "Epoch 7/10\n",
      "1563/1563 [==============================] - 299s 191ms/step - loss: 1.2267 - acc: 0.5677 - val_loss: 1.0848 - val_acc: 0.6225\n",
      "Epoch 8/10\n",
      "1563/1563 [==============================] - 299s 191ms/step - loss: 1.1838 - acc: 0.5805 - val_loss: 1.0409 - val_acc: 0.6327\n",
      "Epoch 9/10\n",
      "1563/1563 [==============================] - 299s 191ms/step - loss: 1.1495 - acc: 0.5946 - val_loss: 1.0756 - val_acc: 0.6293\n",
      "Epoch 10/10\n",
      "1563/1563 [==============================] - 297s 190ms/step - loss: 1.1242 - acc: 0.6041 - val_loss: 0.9673 - val_acc: 0.6646\n"
     ]
    }
   ],
   "source": [
    " ##with data agumentation and and drop out layer and relu layers\n",
    " history1=model1.fit_generator(datagen.flow(x_train, y_train,\n",
    "                                     batch_size=batch_size),\n",
    "                        epochs=epochs,\n",
    "                        validation_data=(x_test, y_test),\n",
    "                        workers=4) "
   ]
  },
  {
   "cell_type": "code",
   "execution_count": 75,
   "metadata": {
    "colab": {
     "base_uri": "https://localhost:8080/",
     "height": 374
    },
    "colab_type": "code",
    "id": "F-n5B_Tn5inn",
    "outputId": "50bf0845-f2f3-4b6d-a63c-c931720ca77b"
   },
   "outputs": [
    {
     "name": "stdout",
     "output_type": "stream",
     "text": [
      "Train on 50000 samples, validate on 10000 samples\n",
      "Epoch 1/10\n",
      "50000/50000 [==============================] - 271s 5ms/step - loss: nan - acc: 0.1001 - val_loss: nan - val_acc: 0.1000\n",
      "Epoch 2/10\n",
      "50000/50000 [==============================] - 268s 5ms/step - loss: nan - acc: 0.1000 - val_loss: nan - val_acc: 0.1000\n",
      "Epoch 3/10\n",
      "50000/50000 [==============================] - 270s 5ms/step - loss: nan - acc: 0.1000 - val_loss: nan - val_acc: 0.1000\n",
      "Epoch 4/10\n",
      "50000/50000 [==============================] - 266s 5ms/step - loss: nan - acc: 0.1000 - val_loss: nan - val_acc: 0.1000\n",
      "Epoch 5/10\n",
      "50000/50000 [==============================] - 266s 5ms/step - loss: nan - acc: 0.1000 - val_loss: nan - val_acc: 0.1000\n",
      "Epoch 6/10\n",
      "50000/50000 [==============================] - 267s 5ms/step - loss: nan - acc: 0.1000 - val_loss: nan - val_acc: 0.1000\n",
      "Epoch 7/10\n",
      "50000/50000 [==============================] - 265s 5ms/step - loss: nan - acc: 0.1000 - val_loss: nan - val_acc: 0.1000\n",
      "Epoch 8/10\n",
      "50000/50000 [==============================] - 267s 5ms/step - loss: nan - acc: 0.1000 - val_loss: nan - val_acc: 0.1000\n",
      "Epoch 9/10\n",
      "50000/50000 [==============================] - 267s 5ms/step - loss: nan - acc: 0.1000 - val_loss: nan - val_acc: 0.1000\n",
      "Epoch 10/10\n",
      "50000/50000 [==============================] - 267s 5ms/step - loss: nan - acc: 0.1000 - val_loss: nan - val_acc: 0.1000\n"
     ]
    }
   ],
   "source": [
    "##with dropout layer without data agumentation\n",
    "history3=model1.fit(x_train, y_train,\n",
    "              batch_size=batch_size,\n",
    "              epochs=epochs,\n",
    "              validation_data=(x_test, y_test),\n",
    "              shuffle=True)"
   ]
  },
  {
   "cell_type": "code",
   "execution_count": 9,
   "metadata": {
    "colab": {
     "base_uri": "https://localhost:8080/",
     "height": 34
    },
    "colab_type": "code",
    "id": "sUCmEedDWP4Y",
    "outputId": "bfab9a45-7c02-4b82-9685-0b6c0431c8cd"
   },
   "outputs": [
    {
     "name": "stdout",
     "output_type": "stream",
     "text": [
      "dict_keys(['val_loss', 'val_acc', 'loss', 'acc'])\n"
     ]
    }
   ],
   "source": [
    "print(history1.history.keys())"
   ]
  },
  {
   "cell_type": "code",
   "execution_count": 0,
   "metadata": {
    "colab": {},
    "colab_type": "code",
    "id": "xlBhB5RDMVPA"
   },
   "outputs": [],
   "source": [
    "def neural_dense(num):\n",
    "  model = Sequential()\n",
    "  model.add(Flatten(input_shape=x_train.shape[1:]))\n",
    "  model.add(Dense(512,activation='relu'))\n",
    "  model.add(Dropout(0.5))\n",
    "  for i in range(num):\n",
    "    model.add(Dense(512, activation='relu'))\n",
    "    model.add(Dropout(0.5))\n",
    "  model.add(Dense(num_classes, activation='sigmoid'))\n",
    "  model.summary()\n",
    "  opt = keras.optimizers.RMSprop(lr=0.0001, decay=1e-6)\n",
    "  model.compile(loss='categorical_crossentropy',optimizer=opt,metrics=['accuracy'])\n",
    " \n",
    "  history=model.fit_generator(datagen.flow(x_train, y_train,batch_size=batch_size),epochs=epochs,\n",
    "                        validation_data=(x_test, y_test),workers=4,verbose=1)\n",
    "  return history\n"
   ]
  },
  {
   "cell_type": "code",
   "execution_count": 53,
   "metadata": {
    "colab": {
     "base_uri": "https://localhost:8080/",
     "height": 1000
    },
    "colab_type": "code",
    "id": "vmWmD3G0S-YV",
    "outputId": "c7ca97b6-789e-4765-bd80-1855fd7768b8"
   },
   "outputs": [
    {
     "name": "stdout",
     "output_type": "stream",
     "text": [
      "Model: \"sequential_17\"\n",
      "_________________________________________________________________\n",
      "Layer (type)                 Output Shape              Param #   \n",
      "=================================================================\n",
      "flatten_9 (Flatten)          (None, 3072)              0         \n",
      "_________________________________________________________________\n",
      "dense_29 (Dense)             (None, 512)               1573376   \n",
      "_________________________________________________________________\n",
      "dropout_17 (Dropout)         (None, 512)               0         \n",
      "_________________________________________________________________\n",
      "dense_30 (Dense)             (None, 10)                5130      \n",
      "=================================================================\n",
      "Total params: 1,578,506\n",
      "Trainable params: 1,578,506\n",
      "Non-trainable params: 0\n",
      "_________________________________________________________________\n",
      "Epoch 1/10\n",
      "1563/1563 [==============================] - 59s 37ms/step - loss: 4.7267 - acc: 0.0993 - val_loss: 3.5893 - val_acc: 0.1000\n",
      "Epoch 2/10\n",
      "1563/1563 [==============================] - 58s 37ms/step - loss: 5.6040 - acc: 0.1006 - val_loss: 6.1976 - val_acc: 0.1000\n",
      "Epoch 3/10\n",
      "1563/1563 [==============================] - 58s 37ms/step - loss: 7.7450 - acc: 0.1012 - val_loss: 7.5223 - val_acc: 0.1000\n",
      "Epoch 4/10\n",
      "1563/1563 [==============================] - 58s 37ms/step - loss: 8.6528 - acc: 0.1009 - val_loss: 7.5223 - val_acc: 0.1000\n",
      "Epoch 5/10\n",
      "1563/1563 [==============================] - 59s 37ms/step - loss: 9.0270 - acc: 0.1013 - val_loss: 10.2225 - val_acc: 0.1000\n",
      "Epoch 6/10\n",
      "1563/1563 [==============================] - 59s 38ms/step - loss: 10.1568 - acc: 0.1012 - val_loss: 10.2254 - val_acc: 0.1000\n",
      "Epoch 7/10\n",
      "1563/1563 [==============================] - 59s 38ms/step - loss: 10.5702 - acc: 0.1005 - val_loss: 10.2250 - val_acc: 0.1002\n",
      "Epoch 8/10\n",
      "1563/1563 [==============================] - 59s 37ms/step - loss: nan - acc: 0.1008 - val_loss: nan - val_acc: 0.1000\n",
      "Epoch 9/10\n",
      "1563/1563 [==============================] - 59s 38ms/step - loss: nan - acc: 0.1000 - val_loss: nan - val_acc: 0.1000\n",
      "Epoch 10/10\n",
      "1563/1563 [==============================] - 58s 37ms/step - loss: nan - acc: 0.1000 - val_loss: nan - val_acc: 0.1000\n",
      "Model: \"sequential_18\"\n",
      "_________________________________________________________________\n",
      "Layer (type)                 Output Shape              Param #   \n",
      "=================================================================\n",
      "flatten_10 (Flatten)         (None, 3072)              0         \n",
      "_________________________________________________________________\n",
      "dense_31 (Dense)             (None, 512)               1573376   \n",
      "_________________________________________________________________\n",
      "dropout_18 (Dropout)         (None, 512)               0         \n",
      "_________________________________________________________________\n",
      "dense_32 (Dense)             (None, 512)               262656    \n",
      "_________________________________________________________________\n",
      "dropout_19 (Dropout)         (None, 512)               0         \n",
      "_________________________________________________________________\n",
      "dense_33 (Dense)             (None, 10)                5130      \n",
      "=================================================================\n",
      "Total params: 1,841,162\n",
      "Trainable params: 1,841,162\n",
      "Non-trainable params: 0\n",
      "_________________________________________________________________\n",
      "Epoch 1/10\n",
      "1563/1563 [==============================] - 68s 43ms/step - loss: 5.2335 - acc: 0.0991 - val_loss: 2.3077 - val_acc: 0.1000\n",
      "Epoch 2/10\n",
      "1563/1563 [==============================] - 67s 43ms/step - loss: nan - acc: 0.1038 - val_loss: nan - val_acc: 0.1000\n",
      "Epoch 3/10\n",
      "1563/1563 [==============================] - 67s 43ms/step - loss: nan - acc: 0.1000 - val_loss: nan - val_acc: 0.1000\n",
      "Epoch 4/10\n",
      "1563/1563 [==============================] - 68s 43ms/step - loss: nan - acc: 0.1000 - val_loss: nan - val_acc: 0.1000\n",
      "Epoch 5/10\n",
      "1563/1563 [==============================] - 67s 43ms/step - loss: nan - acc: 0.1000 - val_loss: nan - val_acc: 0.1000\n",
      "Epoch 6/10\n",
      "1563/1563 [==============================] - 69s 44ms/step - loss: nan - acc: 0.1000 - val_loss: nan - val_acc: 0.1000\n",
      "Epoch 7/10\n",
      "1563/1563 [==============================] - 68s 43ms/step - loss: nan - acc: 0.1000 - val_loss: nan - val_acc: 0.1000\n",
      "Epoch 8/10\n",
      "1563/1563 [==============================] - 68s 43ms/step - loss: nan - acc: 0.1000 - val_loss: nan - val_acc: 0.1000\n",
      "Epoch 9/10\n",
      "1563/1563 [==============================] - 67s 43ms/step - loss: nan - acc: 0.1000 - val_loss: nan - val_acc: 0.1000\n",
      "Epoch 10/10\n",
      "1563/1563 [==============================] - 68s 44ms/step - loss: nan - acc: 0.1000 - val_loss: nan - val_acc: 0.1000\n",
      "Model: \"sequential_19\"\n",
      "_________________________________________________________________\n",
      "Layer (type)                 Output Shape              Param #   \n",
      "=================================================================\n",
      "flatten_11 (Flatten)         (None, 3072)              0         \n",
      "_________________________________________________________________\n",
      "dense_34 (Dense)             (None, 512)               1573376   \n",
      "_________________________________________________________________\n",
      "dropout_20 (Dropout)         (None, 512)               0         \n",
      "_________________________________________________________________\n",
      "dense_35 (Dense)             (None, 512)               262656    \n",
      "_________________________________________________________________\n",
      "dropout_21 (Dropout)         (None, 512)               0         \n",
      "_________________________________________________________________\n",
      "dense_36 (Dense)             (None, 512)               262656    \n",
      "_________________________________________________________________\n",
      "dropout_22 (Dropout)         (None, 512)               0         \n",
      "_________________________________________________________________\n",
      "dense_37 (Dense)             (None, 10)                5130      \n",
      "=================================================================\n",
      "Total params: 2,103,818\n",
      "Trainable params: 2,103,818\n",
      "Non-trainable params: 0\n",
      "_________________________________________________________________\n",
      "Epoch 1/10\n",
      "1563/1563 [==============================] - 78s 50ms/step - loss: nan - acc: 0.1005 - val_loss: nan - val_acc: 0.1000\n",
      "Epoch 2/10\n",
      "1563/1563 [==============================] - 75s 48ms/step - loss: nan - acc: 0.1000 - val_loss: nan - val_acc: 0.1000\n",
      "Epoch 3/10\n",
      "1563/1563 [==============================] - 76s 49ms/step - loss: nan - acc: 0.1000 - val_loss: nan - val_acc: 0.1000\n",
      "Epoch 4/10\n",
      "1563/1563 [==============================] - 77s 49ms/step - loss: nan - acc: 0.1000 - val_loss: nan - val_acc: 0.1000\n",
      "Epoch 5/10\n",
      "1563/1563 [==============================] - 76s 49ms/step - loss: nan - acc: 0.1000 - val_loss: nan - val_acc: 0.1000\n",
      "Epoch 6/10\n",
      "1563/1563 [==============================] - 75s 48ms/step - loss: nan - acc: 0.1000 - val_loss: nan - val_acc: 0.1000\n",
      "Epoch 7/10\n",
      "1563/1563 [==============================] - 75s 48ms/step - loss: nan - acc: 0.1000 - val_loss: nan - val_acc: 0.1000\n",
      "Epoch 8/10\n",
      "1563/1563 [==============================] - 76s 49ms/step - loss: nan - acc: 0.1000 - val_loss: nan - val_acc: 0.1000\n",
      "Epoch 9/10\n",
      "1563/1563 [==============================] - 77s 49ms/step - loss: nan - acc: 0.1000 - val_loss: nan - val_acc: 0.1000\n",
      "Epoch 10/10\n",
      "1563/1563 [==============================] - 76s 49ms/step - loss: nan - acc: 0.1000 - val_loss: nan - val_acc: 0.1000\n",
      "Model: \"sequential_20\"\n",
      "_________________________________________________________________\n",
      "Layer (type)                 Output Shape              Param #   \n",
      "=================================================================\n",
      "flatten_12 (Flatten)         (None, 3072)              0         \n",
      "_________________________________________________________________\n",
      "dense_38 (Dense)             (None, 512)               1573376   \n",
      "_________________________________________________________________\n",
      "dropout_23 (Dropout)         (None, 512)               0         \n",
      "_________________________________________________________________\n",
      "dense_39 (Dense)             (None, 512)               262656    \n",
      "_________________________________________________________________\n",
      "dropout_24 (Dropout)         (None, 512)               0         \n",
      "_________________________________________________________________\n",
      "dense_40 (Dense)             (None, 512)               262656    \n",
      "_________________________________________________________________\n",
      "dropout_25 (Dropout)         (None, 512)               0         \n",
      "_________________________________________________________________\n",
      "dense_41 (Dense)             (None, 512)               262656    \n",
      "_________________________________________________________________\n",
      "dropout_26 (Dropout)         (None, 512)               0         \n",
      "_________________________________________________________________\n",
      "dense_42 (Dense)             (None, 10)                5130      \n",
      "=================================================================\n",
      "Total params: 2,366,474\n",
      "Trainable params: 2,366,474\n",
      "Non-trainable params: 0\n",
      "_________________________________________________________________\n",
      "Epoch 1/10\n",
      "1563/1563 [==============================] - 86s 55ms/step - loss: 7.4337 - acc: 0.1021 - val_loss: 4.8872 - val_acc: 0.1000\n",
      "Epoch 2/10\n",
      "1563/1563 [==============================] - 84s 54ms/step - loss: nan - acc: 0.1000 - val_loss: nan - val_acc: 0.1000\n",
      "Epoch 3/10\n",
      "1563/1563 [==============================] - 85s 54ms/step - loss: nan - acc: 0.1000 - val_loss: nan - val_acc: 0.1000\n",
      "Epoch 4/10\n",
      "1563/1563 [==============================] - 84s 54ms/step - loss: nan - acc: 0.1000 - val_loss: nan - val_acc: 0.1000\n",
      "Epoch 5/10\n",
      "1563/1563 [==============================] - 84s 53ms/step - loss: nan - acc: 0.1000 - val_loss: nan - val_acc: 0.1000\n",
      "Epoch 6/10\n",
      "1563/1563 [==============================] - 83s 53ms/step - loss: nan - acc: 0.1000 - val_loss: nan - val_acc: 0.1000\n",
      "Epoch 7/10\n",
      "1563/1563 [==============================] - 83s 53ms/step - loss: nan - acc: 0.1000 - val_loss: nan - val_acc: 0.1000\n",
      "Epoch 8/10\n",
      "1563/1563 [==============================] - 83s 53ms/step - loss: nan - acc: 0.1000 - val_loss: nan - val_acc: 0.1000\n",
      "Epoch 9/10\n",
      "1563/1563 [==============================] - 84s 53ms/step - loss: nan - acc: 0.1000 - val_loss: nan - val_acc: 0.1000\n",
      "Epoch 10/10\n",
      "1563/1563 [==============================] - 86s 55ms/step - loss: nan - acc: 0.1000 - val_loss: nan - val_acc: 0.1000\n",
      "Model: \"sequential_21\"\n",
      "_________________________________________________________________\n",
      "Layer (type)                 Output Shape              Param #   \n",
      "=================================================================\n",
      "flatten_13 (Flatten)         (None, 3072)              0         \n",
      "_________________________________________________________________\n",
      "dense_43 (Dense)             (None, 512)               1573376   \n",
      "_________________________________________________________________\n",
      "dropout_27 (Dropout)         (None, 512)               0         \n",
      "_________________________________________________________________\n",
      "dense_44 (Dense)             (None, 512)               262656    \n",
      "_________________________________________________________________\n",
      "dropout_28 (Dropout)         (None, 512)               0         \n",
      "_________________________________________________________________\n",
      "dense_45 (Dense)             (None, 512)               262656    \n",
      "_________________________________________________________________\n",
      "dropout_29 (Dropout)         (None, 512)               0         \n",
      "_________________________________________________________________\n",
      "dense_46 (Dense)             (None, 512)               262656    \n",
      "_________________________________________________________________\n",
      "dropout_30 (Dropout)         (None, 512)               0         \n",
      "_________________________________________________________________\n",
      "dense_47 (Dense)             (None, 512)               262656    \n",
      "_________________________________________________________________\n",
      "dropout_31 (Dropout)         (None, 512)               0         \n",
      "_________________________________________________________________\n",
      "dense_48 (Dense)             (None, 10)                5130      \n",
      "=================================================================\n",
      "Total params: 2,629,130\n",
      "Trainable params: 2,629,130\n",
      "Non-trainable params: 0\n",
      "_________________________________________________________________\n",
      "Epoch 1/10\n",
      "1563/1563 [==============================] - 95s 61ms/step - loss: nan - acc: 0.1000 - val_loss: nan - val_acc: 0.1000\n",
      "Epoch 2/10\n",
      "1563/1563 [==============================] - 96s 61ms/step - loss: nan - acc: 0.1000 - val_loss: nan - val_acc: 0.1000\n",
      "Epoch 3/10\n",
      "1563/1563 [==============================] - 99s 64ms/step - loss: nan - acc: 0.1000 - val_loss: nan - val_acc: 0.1000\n",
      "Epoch 4/10\n",
      "1563/1563 [==============================] - 95s 61ms/step - loss: nan - acc: 0.1000 - val_loss: nan - val_acc: 0.1000\n",
      "Epoch 5/10\n",
      "1563/1563 [==============================] - 95s 61ms/step - loss: nan - acc: 0.1000 - val_loss: nan - val_acc: 0.1000\n",
      "Epoch 6/10\n",
      "1563/1563 [==============================] - 94s 60ms/step - loss: nan - acc: 0.1000 - val_loss: nan - val_acc: 0.1000\n",
      "Epoch 7/10\n",
      "1563/1563 [==============================] - 94s 60ms/step - loss: nan - acc: 0.1000 - val_loss: nan - val_acc: 0.1000\n",
      "Epoch 8/10\n",
      "1563/1563 [==============================] - 93s 59ms/step - loss: nan - acc: 0.1000 - val_loss: nan - val_acc: 0.1000\n",
      "Epoch 9/10\n",
      "1563/1563 [==============================] - 93s 59ms/step - loss: nan - acc: 0.1000 - val_loss: nan - val_acc: 0.1000\n",
      "Epoch 10/10\n",
      "1563/1563 [==============================] - 94s 60ms/step - loss: nan - acc: 0.1000 - val_loss: nan - val_acc: 0.1000\n"
     ]
    }
   ],
   "source": [
    "nn0=neural_dense(0)\n",
    "nn1=neural_dense(1)\n",
    "nn2=neural_dense(2)\n",
    "nn3=neural_dense(3)\n",
    "nn4=neural_dense(4)"
   ]
  },
  {
   "cell_type": "code",
   "execution_count": 64,
   "metadata": {
    "colab": {
     "base_uri": "https://localhost:8080/",
     "height": 312
    },
    "colab_type": "code",
    "id": "ZVZFhRgUyMcI",
    "outputId": "6427186d-c2eb-49b9-cf54-d9ea889b008d"
   },
   "outputs": [
    {
     "data": {
      "text/plain": [
       "<matplotlib.legend.Legend at 0x7f9c6d5b4e80>"
      ]
     },
     "execution_count": 64,
     "metadata": {
      "tags": []
     },
     "output_type": "execute_result"
    },
    {
     "data": {
      "image/png": "[encoded data removed]",
      "text/plain": [
       "<Figure size 432x288 with 1 Axes>"
      ]
     },
     "metadata": {
      "tags": []
     },
     "output_type": "display_data"
    }
   ],
   "source": [
    "plt.plot(history1.history['val_acc'])\n",
    "plt.plot(nn0.history['val_acc'])\n",
    "plt.plot(nn1.history['val_acc'])\n",
    "plt.plot(nn2.history['val_acc'])\n",
    "plt.plot(nn3.history['val_acc'])\n",
    "plt.plot(nn4.history['val_acc'])\n",
    "#plt.plot(history1.history['val_accuracy'])\n",
    "plt.title('model validation accuracy')\n",
    "plt.ylabel('accuracy')\n",
    "plt.xlabel('epoch')\n",
    "plt.legend(['cnn', '0 layers','1 layers','2 layers','3 layers','4 layers'], loc='upper left')"
   ]
  },
  {
   "cell_type": "code",
   "execution_count": 65,
   "metadata": {
    "colab": {
     "base_uri": "https://localhost:8080/",
     "height": 312
    },
    "colab_type": "code",
    "id": "X5hAvZ1Wwkzd",
    "outputId": "7c679e3b-da84-4a8c-fba4-02c6a1162e4f"
   },
   "outputs": [
    {
     "data": {
      "text/plain": [
       "<matplotlib.legend.Legend at 0x7f9c6d528320>"
      ]
     },
     "execution_count": 65,
     "metadata": {
      "tags": []
     },
     "output_type": "execute_result"
    },
    {
     "data": {
      "image/png": "[encoded data removed]",
      "text/plain": [
       "<Figure size 432x288 with 1 Axes>"
      ]
     },
     "metadata": {
      "tags": []
     },
     "output_type": "display_data"
    }
   ],
   "source": [
    "plt.plot(history1.history['acc'])\n",
    "plt.plot(nn0.history['acc'])\n",
    "plt.plot(nn1.history['acc'])\n",
    "plt.plot(nn2.history['acc'])\n",
    "plt.plot(nn3.history['acc'])\n",
    "plt.plot(nn4.history['acc'])\n",
    "#plt.plot(history1.history['val_accuracy'])\n",
    "plt.title('model accuracy')\n",
    "plt.ylabel('accuracy')\n",
    "plt.xlabel('epoch')\n",
    "plt.legend(['cnn', '0 layers','1 layers','2 layers','3 layers','4 layers'], loc='upper left')"
   ]
  },
  {
   "cell_type": "markdown",
   "metadata": {
    "colab_type": "text",
    "id": "XLhy0d7ra2IN"
   },
   "source": [
    "Part A <br> The cifar10_cnn worked best as it have the cnn layers which is used for images. On the other hand the other models were equivalent for all the hidden layers. I think this is because we have dropped out after each layer and the number of nodes are same for each layer."
   ]
  },
  {
   "cell_type": "code",
   "execution_count": 0,
   "metadata": {
    "colab": {},
    "colab_type": "code",
    "id": "mcRg94Q4fYHk"
   },
   "outputs": [],
   "source": [
    "model2 = Sequential()\n",
    "model2.add(Conv2D(32, (3, 3), padding='same',\n",
    "                 input_shape=x_train.shape[1:]))\n",
    "model2.add(Activation('sigmoid'))\n",
    "model2.add(Conv2D(32, (3, 3)))\n",
    "model2.add(Activation('sigmoid'))\n",
    "model2.add(MaxPooling2D(pool_size=(2, 2)))\n",
    "model2.add(Dropout(0.25))\n",
    "\n",
    "model2.add(Conv2D(64, (3, 3), padding='same'))\n",
    "model2.add(Activation('sigmoid'))\n",
    "model2.add(Conv2D(64, (3, 3)))\n",
    "model2.add(Activation('sigmoid'))\n",
    "model2.add(MaxPooling2D(pool_size=(2, 2)))\n",
    "model2.add(Dropout(0.25))\n",
    "\n",
    "model2.add(Flatten())\n",
    "model2.add(Dense(512))\n",
    "model2.add(Activation('sigmoid'))\n",
    "model2.add(Dropout(0.5))\n",
    "model2.add(Dense(num_classes))\n",
    "model2.add(Activation('softmax'))"
   ]
  },
  {
   "cell_type": "code",
   "execution_count": 68,
   "metadata": {
    "colab": {
     "base_uri": "https://localhost:8080/",
     "height": 357
    },
    "colab_type": "code",
    "id": "fbtf_clbjXbw",
    "outputId": "faad18e9-4324-4b21-be27-3deb8f381c1c"
   },
   "outputs": [
    {
     "name": "stdout",
     "output_type": "stream",
     "text": [
      "Epoch 1/10\n",
      "1563/1563 [==============================] - 291s 186ms/step - loss: 2.3325 - acc: 0.0997 - val_loss: 2.2322 - val_acc: 0.1551\n",
      "Epoch 2/10\n",
      "1563/1563 [==============================] - 290s 185ms/step - loss: 2.0180 - acc: 0.2386 - val_loss: 1.8812 - val_acc: 0.3136\n",
      "Epoch 3/10\n",
      "1563/1563 [==============================] - 289s 185ms/step - loss: 1.8959 - acc: 0.2909 - val_loss: 1.8012 - val_acc: 0.3318\n",
      "Epoch 4/10\n",
      "1563/1563 [==============================] - 291s 186ms/step - loss: 1.8453 - acc: 0.3093 - val_loss: 1.7574 - val_acc: 0.3351\n",
      "Epoch 5/10\n",
      "1563/1563 [==============================] - 292s 187ms/step - loss: 1.8197 - acc: 0.3154 - val_loss: 1.7615 - val_acc: 0.3481\n",
      "Epoch 6/10\n",
      "1563/1563 [==============================] - 291s 186ms/step - loss: 1.7937 - acc: 0.3279 - val_loss: 1.6916 - val_acc: 0.3712\n",
      "Epoch 7/10\n",
      "1563/1563 [==============================] - 290s 185ms/step - loss: 1.7549 - acc: 0.3431 - val_loss: 1.6707 - val_acc: 0.3822\n",
      "Epoch 8/10\n",
      "1563/1563 [==============================] - 290s 185ms/step - loss: 1.7047 - acc: 0.3663 - val_loss: 1.6101 - val_acc: 0.4046\n",
      "Epoch 9/10\n",
      "1563/1563 [==============================] - 292s 187ms/step - loss: 1.6739 - acc: 0.3826 - val_loss: 1.5865 - val_acc: 0.4118\n",
      "Epoch 10/10\n",
      "1563/1563 [==============================] - 291s 186ms/step - loss: 1.6493 - acc: 0.3912 - val_loss: 1.5903 - val_acc: 0.4067\n"
     ]
    }
   ],
   "source": [
    "opt = keras.optimizers.RMSprop(lr=0.0001, decay=1e-6)\n",
    "model2.compile(loss='categorical_crossentropy',\n",
    "              optimizer=opt,\n",
    "              metrics=['accuracy']) \n",
    "##with data agumentation and and drop out layer and sigmoid layers\n",
    "history2=model2.fit_generator(datagen.flow(x_train, y_train,\n",
    "                                     batch_size=batch_size),epochs=epochs,validation_data=(x_test, y_test),workers=4) "
   ]
  },
  {
   "cell_type": "code",
   "execution_count": 69,
   "metadata": {
    "colab": {
     "base_uri": "https://localhost:8080/",
     "height": 312
    },
    "colab_type": "code",
    "id": "_-BdgzoHjrfr",
    "outputId": "fc11266d-2b70-4c85-b641-630829a75463"
   },
   "outputs": [
    {
     "data": {
      "text/plain": [
       "<matplotlib.legend.Legend at 0x7f9c6d20f9e8>"
      ]
     },
     "execution_count": 69,
     "metadata": {
      "tags": []
     },
     "output_type": "execute_result"
    },
    {
     "data": {
      "image/png": "[encoded data removed]",
      "text/plain": [
       "<Figure size 432x288 with 1 Axes>"
      ]
     },
     "metadata": {
      "tags": []
     },
     "output_type": "display_data"
    }
   ],
   "source": [
    "plt.plot(history1.history['val_acc'])\n",
    "plt.plot(history2.history['val_acc'])\n",
    "plt.title('model validation accuracy')\n",
    "plt.ylabel('accuracy')\n",
    "plt.xlabel('epoch')\n",
    "plt.legend(['relu', 'sigmoid'], loc='upper left')"
   ]
  },
  {
   "cell_type": "code",
   "execution_count": 70,
   "metadata": {
    "colab": {
     "base_uri": "https://localhost:8080/",
     "height": 312
    },
    "colab_type": "code",
    "id": "qBaN-WET02af",
    "outputId": "77c0175f-dbda-4b52-b507-24e0de752da0"
   },
   "outputs": [
    {
     "data": {
      "text/plain": [
       "<matplotlib.legend.Legend at 0x7f9c6e72eda0>"
      ]
     },
     "execution_count": 70,
     "metadata": {
      "tags": []
     },
     "output_type": "execute_result"
    },
    {
     "data": {
      "image/png": "[encoded data removed]",
      "text/plain": [
       "<Figure size 432x288 with 1 Axes>"
      ]
     },
     "metadata": {
      "tags": []
     },
     "output_type": "display_data"
    }
   ],
   "source": [
    "plt.plot(history1.history['acc'])\n",
    "plt.plot(history2.history['acc'])\n",
    "plt.title('model accuracy')\n",
    "plt.ylabel('accuracy')\n",
    "plt.xlabel('epoch')\n",
    "plt.legend(['relu', 'sigmoid'], loc='upper left')"
   ]
  },
  {
   "cell_type": "markdown",
   "metadata": {
    "colab_type": "text",
    "id": "gqA1QPkpboBA"
   },
   "source": [
    "Part B <br> The relu model works better here because it is giving a linear activation for the nodes whereas the sigmoid is coverting the values between 0 and 1 which is not needed here as the input is images."
   ]
  },
  {
   "cell_type": "code",
   "execution_count": 0,
   "metadata": {
    "colab": {},
    "colab_type": "code",
    "id": "csIg8in01BH6"
   },
   "outputs": [],
   "source": [
    "model3 = Sequential()\n",
    "model3.add(Conv2D(32, (3, 3), padding='same',\n",
    "                 input_shape=x_train.shape[1:]))\n",
    "model3.add(Activation('relu'))\n",
    "model3.add(Conv2D(32, (3, 3)))\n",
    "model3.add(Activation('relu'))\n",
    "model3.add(MaxPooling2D(pool_size=(2, 2)))\n",
    "\n",
    "\n",
    "model3.add(Conv2D(64, (3, 3), padding='same'))\n",
    "model3.add(Activation('relu'))\n",
    "model3.add(Conv2D(64, (3, 3)))\n",
    "model3.add(Activation('relu'))\n",
    "model3.add(MaxPooling2D(pool_size=(2, 2)))\n",
    "\n",
    "\n",
    "model3.add(Flatten())\n",
    "model3.add(Dense(512))\n",
    "model3.add(Activation('relu'))\n",
    "\n",
    "model3.add(Dense(num_classes))\n",
    "model3.add(Activation('softmax'))"
   ]
  },
  {
   "cell_type": "code",
   "execution_count": 0,
   "metadata": {
    "colab": {},
    "colab_type": "code",
    "id": "_aqGzaTU6hKi"
   },
   "outputs": [],
   "source": [
    "opt = keras.optimizers.RMSprop(lr=0.0001, decay=1e-6)\n",
    "\n",
    "# Let's train the model using RMSprop\n",
    "model3.compile(loss='categorical_crossentropy',\n",
    "              optimizer=opt,\n",
    "              metrics=['accuracy']) "
   ]
  },
  {
   "cell_type": "code",
   "execution_count": 73,
   "metadata": {
    "colab": {
     "base_uri": "https://localhost:8080/",
     "height": 374
    },
    "colab_type": "code",
    "id": "6N40CIJ96on_",
    "outputId": "836db12b-d809-4003-aae1-ab7089ea9ada"
   },
   "outputs": [
    {
     "name": "stdout",
     "output_type": "stream",
     "text": [
      "Train on 50000 samples, validate on 10000 samples\n",
      "Epoch 1/10\n",
      "50000/50000 [==============================] - 260s 5ms/step - loss: 2.7585 - acc: 0.4190 - val_loss: 1.2788 - val_acc: 0.5535\n",
      "Epoch 2/10\n",
      "50000/50000 [==============================] - 260s 5ms/step - loss: 1.1399 - acc: 0.6066 - val_loss: 1.1991 - val_acc: 0.5888\n",
      "Epoch 3/10\n",
      "50000/50000 [==============================] - 258s 5ms/step - loss: 0.9273 - acc: 0.6806 - val_loss: 1.0716 - val_acc: 0.6380\n",
      "Epoch 4/10\n",
      "50000/50000 [==============================] - 257s 5ms/step - loss: 0.7663 - acc: 0.7381 - val_loss: 1.2323 - val_acc: 0.6181\n",
      "Epoch 5/10\n",
      "50000/50000 [==============================] - 258s 5ms/step - loss: 0.6313 - acc: 0.7841 - val_loss: 1.1216 - val_acc: 0.6477\n",
      "Epoch 6/10\n",
      "50000/50000 [==============================] - 257s 5ms/step - loss: 0.5100 - acc: 0.8264 - val_loss: 1.1577 - val_acc: 0.6541\n",
      "Epoch 7/10\n",
      "50000/50000 [==============================] - 257s 5ms/step - loss: 0.4084 - acc: 0.8610 - val_loss: 1.1603 - val_acc: 0.6813\n",
      "Epoch 8/10\n",
      "50000/50000 [==============================] - 258s 5ms/step - loss: 0.3204 - acc: 0.8919 - val_loss: 1.2772 - val_acc: 0.6729\n",
      "Epoch 9/10\n",
      "50000/50000 [==============================] - 260s 5ms/step - loss: 0.2464 - acc: 0.9172 - val_loss: 1.3293 - val_acc: 0.6751\n",
      "Epoch 10/10\n",
      "50000/50000 [==============================] - 259s 5ms/step - loss: 0.1898 - acc: 0.9356 - val_loss: 1.3961 - val_acc: 0.6739\n"
     ]
    }
   ],
   "source": [
    "##without dropout layer without data agumentation\n",
    "history4=model3.fit(x_train, y_train,\n",
    "              batch_size=batch_size,\n",
    "              epochs=epochs,\n",
    "              validation_data=(x_test, y_test),\n",
    "              shuffle=True)"
   ]
  },
  {
   "cell_type": "code",
   "execution_count": 74,
   "metadata": {
    "colab": {
     "base_uri": "https://localhost:8080/",
     "height": 357
    },
    "colab_type": "code",
    "id": "Kow-r_l56072",
    "outputId": "26009740-3408-4704-9d14-86aa42b0e725"
   },
   "outputs": [
    {
     "name": "stdout",
     "output_type": "stream",
     "text": [
      "Epoch 1/10\n",
      "1563/1563 [==============================] - 280s 179ms/step - loss: 1.0470 - acc: 0.6546 - val_loss: 1.0496 - val_acc: 0.6611\n",
      "Epoch 2/10\n",
      "1563/1563 [==============================] - 279s 179ms/step - loss: 0.9500 - acc: 0.6801 - val_loss: 0.9209 - val_acc: 0.6940\n",
      "Epoch 3/10\n",
      "1563/1563 [==============================] - 280s 179ms/step - loss: 0.9135 - acc: 0.6935 - val_loss: 1.0661 - val_acc: 0.6615\n",
      "Epoch 4/10\n",
      "1563/1563 [==============================] - 280s 179ms/step - loss: 0.8768 - acc: 0.7026 - val_loss: 0.9340 - val_acc: 0.7061\n",
      "Epoch 5/10\n",
      "1563/1563 [==============================] - 283s 181ms/step - loss: 0.8588 - acc: 0.7104 - val_loss: 0.9231 - val_acc: 0.7086\n",
      "Epoch 6/10\n",
      "1563/1563 [==============================] - 275s 176ms/step - loss: 0.8395 - acc: 0.7170 - val_loss: 0.8646 - val_acc: 0.7228\n",
      "Epoch 7/10\n",
      "1563/1563 [==============================] - 274s 175ms/step - loss: 0.8275 - acc: 0.7216 - val_loss: 0.8311 - val_acc: 0.7289\n",
      "Epoch 8/10\n",
      "1563/1563 [==============================] - 276s 176ms/step - loss: 0.8167 - acc: 0.7260 - val_loss: 0.8585 - val_acc: 0.7281\n",
      "Epoch 9/10\n",
      "1563/1563 [==============================] - 276s 176ms/step - loss: 0.8112 - acc: 0.7297 - val_loss: 0.8439 - val_acc: 0.7191\n",
      "Epoch 10/10\n",
      "1563/1563 [==============================] - 276s 177ms/step - loss: 0.8070 - acc: 0.7310 - val_loss: 0.8978 - val_acc: 0.7064\n"
     ]
    }
   ],
   "source": [
    "##without dropout layer with data agumentation\n",
    "history5=model3.fit_generator(datagen.flow(x_train, y_train,\n",
    "                                     batch_size=batch_size),\n",
    "                        epochs=epochs,\n",
    "                        validation_data=(x_test, y_test),\n",
    "                        workers=4) "
   ]
  },
  {
   "cell_type": "code",
   "execution_count": 76,
   "metadata": {
    "colab": {
     "base_uri": "https://localhost:8080/",
     "height": 312
    },
    "colab_type": "code",
    "id": "Ou7P1yv67GKs",
    "outputId": "b3411f63-2f24-4fd4-f1d9-fa552a2be231"
   },
   "outputs": [
    {
     "data": {
      "text/plain": [
       "<matplotlib.legend.Legend at 0x7f9c6dbc4b70>"
      ]
     },
     "execution_count": 76,
     "metadata": {
      "tags": []
     },
     "output_type": "execute_result"
    },
    {
     "data": {
      "image/png": "[encoded data removed]",
      "text/plain": [
       "<Figure size 432x288 with 1 Axes>"
      ]
     },
     "metadata": {
      "tags": []
     },
     "output_type": "display_data"
    }
   ],
   "source": [
    "plt.plot(history1.history['acc'])\n",
    "plt.plot(history3.history['acc'])\n",
    "plt.plot(history4.history['acc'])\n",
    "plt.plot(history5.history['acc'])\n",
    "plt.title('model accuracy')\n",
    "plt.ylabel('accuracy')\n",
    "plt.xlabel('epoch')\n",
    "plt.legend(['dropout & agumentation','dropout & no agumentation','no dropout & no agumentation ','no dropout & agumentation'], loc='upper left')"
   ]
  },
  {
   "cell_type": "code",
   "execution_count": 77,
   "metadata": {
    "colab": {
     "base_uri": "https://localhost:8080/",
     "height": 312
    },
    "colab_type": "code",
    "id": "1nz2QI6acQxP",
    "outputId": "99ee7cec-42b7-4f16-a4d5-99c1fc9d9a0e"
   },
   "outputs": [
    {
     "data": {
      "text/plain": [
       "<matplotlib.legend.Legend at 0x7f9c6db42390>"
      ]
     },
     "execution_count": 77,
     "metadata": {
      "tags": []
     },
     "output_type": "execute_result"
    },
    {
     "data": {
      "image/png": "[encoded data removed]",
      "text/plain": [
       "<Figure size 432x288 with 1 Axes>"
      ]
     },
     "metadata": {
      "tags": []
     },
     "output_type": "display_data"
    }
   ],
   "source": [
    "plt.plot(history1.history['val_acc'])\n",
    "plt.plot(history3.history['val_acc'])\n",
    "plt.plot(history4.history['val_acc'])\n",
    "plt.plot(history5.history['val_acc'])\n",
    "plt.title('model validation accuracy')\n",
    "plt.ylabel('accuracy')\n",
    "plt.xlabel('epoch')\n",
    "plt.legend(['dropout & agumentation','dropout & no agumentation','no dropout & no agumentation ','no dropout & agumentation'], loc='upper left')"
   ]
  },
  {
   "cell_type": "markdown",
   "metadata": {
    "colab_type": "text",
    "id": "shsJPwbwcGX0"
   },
   "source": [
    "Past C<br>Here the model with dropout layer and no agumentation is having a constant low value for the accuracy. hence for 100 epochs I think the other models will coverge to give us similar results for the 100 epochs as we can see that at the end of the 10 epochs the graphs started to concide with each other."
   ]
  },
  {
   "cell_type": "code",
   "execution_count": 0,
   "metadata": {
    "colab": {},
    "colab_type": "code",
    "id": "ygmXe34ccbeS"
   },
   "outputs": [],
   "source": []
  }
 ],
 "metadata": {
  "colab": {
   "collapsed_sections": [],
   "name": "SK_011_DL_06_.ipynb",
   "provenance": []
  },
  "kernelspec": {
   "display_name": "Python 3",
   "language": "python",
   "name": "python3"
  },
  "language_info": {
   "codemirror_mode": {
    "name": "ipython",
    "version": 3
   },
   "file_extension": ".py",
   "mimetype": "text/x-python",
   "name": "python",
   "nbconvert_exporter": "python",
   "pygments_lexer": "ipython3",
   "version": "3.7.4"
  }
 },
 "nbformat": 4,
 "nbformat_minor": 1
}
