{
  "nbformat": 4,
  "nbformat_minor": 0,
  "metadata": {
    "kernelspec": {
      "name": "python3",
      "display_name": "Python 3"
    },
    "language_info": {
      "codemirror_mode": {
        "name": "ipython",
        "version": 3
      },
      "file_extension": ".py",
      "mimetype": "text/x-python",
      "name": "python",
      "nbconvert_exporter": "python",
      "pygments_lexer": "ipython3",
      "version": "3.7.4"
    },
    "colab": {
      "name": "Lab 7 DL.ipynb",
      "provenance": [],
      "collapsed_sections": []
    },
    "accelerator": "GPU"
  },
  "cells": [
    {
      "cell_type": "code",
      "metadata": {
        "id": "1zKEnAZwke2Y",
        "colab_type": "code",
        "colab": {
          "base_uri": "https://localhost:8080/",
          "height": 96
        },
        "outputId": "5ccf3e26-bfca-4b73-ffa9-0e7022954a18"
      },
      "source": [
        "from keras.datasets import fashion_mnist"
      ],
      "execution_count": 1,
      "outputs": [
        {
          "output_type": "stream",
          "text": [
            "Using TensorFlow backend.\n"
          ],
          "name": "stderr"
        },
        {
          "output_type": "display_data",
          "data": {
            "text/html": [
              "<p style=\"color: red;\">\n",
              "The default version of TensorFlow in Colab will soon switch to TensorFlow 2.x.<br>\n",
              "We recommend you <a href=\"https://www.tensorflow.org/guide/migrate\" target=\"_blank\">upgrade</a> now \n",
              "or ensure your notebook will continue to use TensorFlow 1.x via the <code>%tensorflow_version 1.x</code> magic:\n",
              "<a href=\"https://colab.research.google.com/notebooks/tensorflow_version.ipynb\" target=\"_blank\">more info</a>.</p>\n"
            ],
            "text/plain": [
              "<IPython.core.display.HTML object>"
            ]
          },
          "metadata": {
            "tags": []
          }
        }
      ]
    },
    {
      "cell_type": "code",
      "metadata": {
        "id": "X-upa_9Hke2v",
        "colab_type": "code",
        "colab": {}
      },
      "source": [
        "import numpy as np\n",
        "import keras\n",
        "#from keras.datasets import mnist\n",
        "from keras.models import Sequential\n",
        "####### several types of layers in CNN ###############\n",
        "from keras.layers import Dense, Dropout, Flatten, Conv2D, MaxPooling2D\n",
        "######################################################\n",
        "from keras import backend as K\n",
        "from keras.preprocessing import image\n",
        "from keras.applications.mobilenet import MobileNet\n",
        "from keras.applications.vgg16 import preprocess_input, decode_predictions\n",
        "from keras.models import Model\n",
        "import timeit\n",
        "\n",
        "import warnings\n",
        "warnings.filterwarnings('ignore')"
      ],
      "execution_count": 0,
      "outputs": []
    },
    {
      "cell_type": "code",
      "metadata": {
        "id": "x8FGlJ4rke29",
        "colab_type": "code",
        "colab": {
          "base_uri": "https://localhost:8080/",
          "height": 222
        },
        "outputId": "f07fe90e-921c-421a-dcfd-3506f444338c"
      },
      "source": [
        "batch_size = 200\n",
        "num_classes = 10\n",
        "epochs = 20\n",
        "# input image dimensions\n",
        "img_rows, img_cols = 28, 28\n",
        "\n",
        "# the data, shuffled and split between train and test sets\n",
        "(x_train, y_train), (x_test, y_test) = fashion_mnist.load_data()\n",
        "\n",
        "if K.image_data_format() == 'channels_first':\n",
        "    x_train = x_train.reshape(x_train.shape[0], 1, img_rows, img_cols)\n",
        "    x_test = x_test.reshape(x_test.shape[0], 1, img_rows, img_cols)\n",
        "    input_shape = (1, img_rows, img_cols)\n",
        "else:\n",
        "    x_train = x_train.reshape(x_train.shape[0], img_rows, img_cols, 1)\n",
        "    x_test = x_test.reshape(x_test.shape[0], img_rows, img_cols, 1)\n",
        "    input_shape = (img_rows, img_cols, 1)\n",
        "\n",
        "x_train = x_train.astype('float32')\n",
        "x_test = x_test.astype('float32')\n",
        "x_train /= 255\n",
        "x_test /= 255\n",
        "print('x_train shape:', x_train.shape)\n",
        "print(x_train.shape[0], 'train samples')\n",
        "print(x_test.shape[0], 'test samples')\n",
        "\n",
        "# convert class vectors to binary class matrices\n",
        "y_train = keras.utils.to_categorical(y_train, num_classes)\n",
        "y_test = keras.utils.to_categorical(y_test, num_classes)"
      ],
      "execution_count": 3,
      "outputs": [
        {
          "output_type": "stream",
          "text": [
            "Downloading data from http://fashion-mnist.s3-website.eu-central-1.amazonaws.com/train-labels-idx1-ubyte.gz\n",
            "32768/29515 [=================================] - 0s 0us/step\n",
            "Downloading data from http://fashion-mnist.s3-website.eu-central-1.amazonaws.com/train-images-idx3-ubyte.gz\n",
            "26427392/26421880 [==============================] - 0s 0us/step\n",
            "Downloading data from http://fashion-mnist.s3-website.eu-central-1.amazonaws.com/t10k-labels-idx1-ubyte.gz\n",
            "8192/5148 [===============================================] - 0s 0us/step\n",
            "Downloading data from http://fashion-mnist.s3-website.eu-central-1.amazonaws.com/t10k-images-idx3-ubyte.gz\n",
            "4423680/4422102 [==============================] - 0s 0us/step\n",
            "x_train shape: (60000, 28, 28, 1)\n",
            "60000 train samples\n",
            "10000 test samples\n"
          ],
          "name": "stdout"
        }
      ]
    },
    {
      "cell_type": "code",
      "metadata": {
        "id": "dvOhHmHake3I",
        "colab_type": "code",
        "colab": {
          "base_uri": "https://localhost:8080/",
          "height": 541
        },
        "outputId": "8cab9c55-b6d4-4884-8588-3492cfdb202f"
      },
      "source": [
        "#################################################\n",
        "model = Sequential()\n",
        "model.add(Conv2D(2, kernel_size=(3, 3), activation='sigmoid',strides=1,padding='valid',input_shape=input_shape))\n",
        "model.add(MaxPooling2D(pool_size=(2, 2)))\n",
        "model.add(Conv2D(2, kernel_size=(3, 3), activation='relu',strides=1,padding='valid'))\n",
        "model.add(MaxPooling2D(pool_size=(2, 2)))\n",
        "################ FULLY CONNECTED ############################\n",
        "model.add(Flatten())\n",
        "model.add(Dense(50, activation='tanh'))\n",
        "############################################################\n",
        "model.add(Dense(num_classes, activation='softmax'))\n",
        "model.summary()"
      ],
      "execution_count": 4,
      "outputs": [
        {
          "output_type": "stream",
          "text": [
            "WARNING:tensorflow:From /usr/local/lib/python3.6/dist-packages/keras/backend/tensorflow_backend.py:66: The name tf.get_default_graph is deprecated. Please use tf.compat.v1.get_default_graph instead.\n",
            "\n",
            "WARNING:tensorflow:From /usr/local/lib/python3.6/dist-packages/keras/backend/tensorflow_backend.py:541: The name tf.placeholder is deprecated. Please use tf.compat.v1.placeholder instead.\n",
            "\n",
            "WARNING:tensorflow:From /usr/local/lib/python3.6/dist-packages/keras/backend/tensorflow_backend.py:4432: The name tf.random_uniform is deprecated. Please use tf.random.uniform instead.\n",
            "\n",
            "WARNING:tensorflow:From /usr/local/lib/python3.6/dist-packages/keras/backend/tensorflow_backend.py:4267: The name tf.nn.max_pool is deprecated. Please use tf.nn.max_pool2d instead.\n",
            "\n",
            "Model: \"sequential_1\"\n",
            "_________________________________________________________________\n",
            "Layer (type)                 Output Shape              Param #   \n",
            "=================================================================\n",
            "conv2d_1 (Conv2D)            (None, 26, 26, 2)         20        \n",
            "_________________________________________________________________\n",
            "max_pooling2d_1 (MaxPooling2 (None, 13, 13, 2)         0         \n",
            "_________________________________________________________________\n",
            "conv2d_2 (Conv2D)            (None, 11, 11, 2)         38        \n",
            "_________________________________________________________________\n",
            "max_pooling2d_2 (MaxPooling2 (None, 5, 5, 2)           0         \n",
            "_________________________________________________________________\n",
            "flatten_1 (Flatten)          (None, 50)                0         \n",
            "_________________________________________________________________\n",
            "dense_1 (Dense)              (None, 50)                2550      \n",
            "_________________________________________________________________\n",
            "dense_2 (Dense)              (None, 10)                510       \n",
            "=================================================================\n",
            "Total params: 3,118\n",
            "Trainable params: 3,118\n",
            "Non-trainable params: 0\n",
            "_________________________________________________________________\n"
          ],
          "name": "stdout"
        }
      ]
    },
    {
      "cell_type": "code",
      "metadata": {
        "id": "v9PaoTEqke3P",
        "colab_type": "code",
        "colab": {
          "base_uri": "https://localhost:8080/",
          "height": 1000
        },
        "outputId": "b392ad27-5747-4f00-f2c6-57023f5f13d7"
      },
      "source": [
        "model.compile(loss=keras.losses.categorical_crossentropy,\n",
        "              optimizer=keras.optimizers.Adadelta(),\n",
        "              metrics=['accuracy'])\n",
        "\n",
        "history=model.fit(x_train, y_train,\n",
        "          batch_size=batch_size,\n",
        "          epochs=epochs,\n",
        "          verbose=1,\n",
        "          validation_data=(x_test, y_test))"
      ],
      "execution_count": 5,
      "outputs": [
        {
          "output_type": "stream",
          "text": [
            "WARNING:tensorflow:From /usr/local/lib/python3.6/dist-packages/keras/optimizers.py:793: The name tf.train.Optimizer is deprecated. Please use tf.compat.v1.train.Optimizer instead.\n",
            "\n",
            "WARNING:tensorflow:From /usr/local/lib/python3.6/dist-packages/keras/backend/tensorflow_backend.py:3576: The name tf.log is deprecated. Please use tf.math.log instead.\n",
            "\n",
            "WARNING:tensorflow:From /usr/local/lib/python3.6/dist-packages/tensorflow_core/python/ops/math_grad.py:1424: where (from tensorflow.python.ops.array_ops) is deprecated and will be removed in a future version.\n",
            "Instructions for updating:\n",
            "Use tf.where in 2.0, which has the same broadcast rule as np.where\n",
            "WARNING:tensorflow:From /usr/local/lib/python3.6/dist-packages/keras/backend/tensorflow_backend.py:1033: The name tf.assign_add is deprecated. Please use tf.compat.v1.assign_add instead.\n",
            "\n",
            "WARNING:tensorflow:From /usr/local/lib/python3.6/dist-packages/keras/backend/tensorflow_backend.py:1020: The name tf.assign is deprecated. Please use tf.compat.v1.assign instead.\n",
            "\n",
            "WARNING:tensorflow:From /usr/local/lib/python3.6/dist-packages/keras/backend/tensorflow_backend.py:3005: The name tf.Session is deprecated. Please use tf.compat.v1.Session instead.\n",
            "\n",
            "Train on 60000 samples, validate on 10000 samples\n",
            "Epoch 1/20\n",
            "WARNING:tensorflow:From /usr/local/lib/python3.6/dist-packages/keras/backend/tensorflow_backend.py:190: The name tf.get_default_session is deprecated. Please use tf.compat.v1.get_default_session instead.\n",
            "\n",
            "WARNING:tensorflow:From /usr/local/lib/python3.6/dist-packages/keras/backend/tensorflow_backend.py:197: The name tf.ConfigProto is deprecated. Please use tf.compat.v1.ConfigProto instead.\n",
            "\n",
            "WARNING:tensorflow:From /usr/local/lib/python3.6/dist-packages/keras/backend/tensorflow_backend.py:207: The name tf.global_variables is deprecated. Please use tf.compat.v1.global_variables instead.\n",
            "\n",
            "WARNING:tensorflow:From /usr/local/lib/python3.6/dist-packages/keras/backend/tensorflow_backend.py:216: The name tf.is_variable_initialized is deprecated. Please use tf.compat.v1.is_variable_initialized instead.\n",
            "\n",
            "WARNING:tensorflow:From /usr/local/lib/python3.6/dist-packages/keras/backend/tensorflow_backend.py:223: The name tf.variables_initializer is deprecated. Please use tf.compat.v1.variables_initializer instead.\n",
            "\n",
            "60000/60000 [==============================] - 15s 257us/step - loss: 1.6603 - acc: 0.4256 - val_loss: 0.9769 - val_acc: 0.6343\n",
            "Epoch 2/20\n",
            "60000/60000 [==============================] - 1s 24us/step - loss: 0.8540 - acc: 0.6720 - val_loss: 0.8191 - val_acc: 0.6792\n",
            "Epoch 3/20\n",
            "60000/60000 [==============================] - 1s 25us/step - loss: 0.7579 - acc: 0.7093 - val_loss: 0.7509 - val_acc: 0.7138\n",
            "Epoch 4/20\n",
            "60000/60000 [==============================] - 1s 25us/step - loss: 0.7136 - acc: 0.7267 - val_loss: 0.7305 - val_acc: 0.7267\n",
            "Epoch 5/20\n",
            "60000/60000 [==============================] - 2s 25us/step - loss: 0.6864 - acc: 0.7382 - val_loss: 0.7283 - val_acc: 0.7135\n",
            "Epoch 6/20\n",
            "60000/60000 [==============================] - 1s 25us/step - loss: 0.6646 - acc: 0.7483 - val_loss: 0.6770 - val_acc: 0.7462\n",
            "Epoch 7/20\n",
            "60000/60000 [==============================] - 2s 26us/step - loss: 0.6477 - acc: 0.7555 - val_loss: 0.6753 - val_acc: 0.7477\n",
            "Epoch 8/20\n",
            "60000/60000 [==============================] - 1s 25us/step - loss: 0.6335 - acc: 0.7626 - val_loss: 0.6685 - val_acc: 0.7532\n",
            "Epoch 9/20\n",
            "60000/60000 [==============================] - 1s 25us/step - loss: 0.6206 - acc: 0.7665 - val_loss: 0.6410 - val_acc: 0.7654\n",
            "Epoch 10/20\n",
            "60000/60000 [==============================] - 1s 25us/step - loss: 0.6098 - acc: 0.7693 - val_loss: 0.6338 - val_acc: 0.7691\n",
            "Epoch 11/20\n",
            "60000/60000 [==============================] - 2s 26us/step - loss: 0.6021 - acc: 0.7751 - val_loss: 0.6256 - val_acc: 0.7742\n",
            "Epoch 12/20\n",
            "60000/60000 [==============================] - 2s 26us/step - loss: 0.5951 - acc: 0.7766 - val_loss: 0.6409 - val_acc: 0.7594\n",
            "Epoch 13/20\n",
            "60000/60000 [==============================] - 2s 27us/step - loss: 0.5884 - acc: 0.7798 - val_loss: 0.6198 - val_acc: 0.7751\n",
            "Epoch 14/20\n",
            "60000/60000 [==============================] - 1s 24us/step - loss: 0.5821 - acc: 0.7815 - val_loss: 0.6161 - val_acc: 0.7718\n",
            "Epoch 15/20\n",
            "60000/60000 [==============================] - 1s 25us/step - loss: 0.5783 - acc: 0.7825 - val_loss: 0.6197 - val_acc: 0.7774\n",
            "Epoch 16/20\n",
            "60000/60000 [==============================] - 1s 24us/step - loss: 0.5740 - acc: 0.7849 - val_loss: 0.6049 - val_acc: 0.7788\n",
            "Epoch 17/20\n",
            "60000/60000 [==============================] - 1s 25us/step - loss: 0.5701 - acc: 0.7860 - val_loss: 0.6093 - val_acc: 0.7718\n",
            "Epoch 18/20\n",
            "60000/60000 [==============================] - 2s 26us/step - loss: 0.5658 - acc: 0.7872 - val_loss: 0.6051 - val_acc: 0.7796\n",
            "Epoch 19/20\n",
            "60000/60000 [==============================] - 1s 24us/step - loss: 0.5631 - acc: 0.7876 - val_loss: 0.6046 - val_acc: 0.7751\n",
            "Epoch 20/20\n",
            "60000/60000 [==============================] - 1s 25us/step - loss: 0.5589 - acc: 0.7898 - val_loss: 0.5942 - val_acc: 0.7803\n"
          ],
          "name": "stdout"
        }
      ]
    },
    {
      "cell_type": "code",
      "metadata": {
        "id": "uNqMZ7Mjke3X",
        "colab_type": "code",
        "colab": {
          "base_uri": "https://localhost:8080/",
          "height": 590
        },
        "outputId": "7c3bf833-e6fb-4277-ffca-852ca96eb23e"
      },
      "source": [
        "# list all data in history\n",
        "import matplotlib.pyplot as plt\n",
        "print(history.history.keys())\n",
        "# summarize history for accuracy\n",
        "plt.plot(history.history['acc'])\n",
        "plt.plot(history.history['val_acc'])\n",
        "plt.title('model accuracy')\n",
        "plt.ylabel('acc')\n",
        "plt.xlabel('epoch')\n",
        "plt.legend(['train', 'test'], loc='upper left')\n",
        "plt.show()\n",
        "# summarize history for loss\n",
        "plt.plot(history.history['loss'])\n",
        "plt.plot(history.history['val_loss'])\n",
        "plt.title('model loss')\n",
        "plt.ylabel('loss')\n",
        "plt.xlabel('epoch')\n",
        "plt.legend(['train', 'test'], loc='upper left')\n",
        "plt.show()"
      ],
      "execution_count": 9,
      "outputs": [
        {
          "output_type": "stream",
          "text": [
            "dict_keys(['val_loss', 'val_acc', 'loss', 'acc'])\n"
          ],
          "name": "stdout"
        },
        {
          "output_type": "display_data",
          "data": {
            "image/png": "[encoded data removed]",
            "text/plain": [
              "<Figure size 432x288 with 1 Axes>"
            ]
          },
          "metadata": {
            "tags": []
          }
        },
        {
          "output_type": "display_data",
          "data": {
            "image/png": "[encoded data removed]",
            "text/plain": [
              "<Figure size 432x288 with 1 Axes>"
            ]
          },
          "metadata": {
            "tags": []
          }
        }
      ]
    },
    {
      "cell_type": "code",
      "metadata": {
        "id": "OLVC8tjJke3e",
        "colab_type": "code",
        "colab": {}
      },
      "source": [
        "y_pred=model.predict(x_test)"
      ],
      "execution_count": 0,
      "outputs": []
    },
    {
      "cell_type": "code",
      "metadata": {
        "id": "63ZboLBRke3j",
        "colab_type": "code",
        "colab": {}
      },
      "source": [
        "y_pred = (y_pred > 0.5) "
      ],
      "execution_count": 0,
      "outputs": []
    },
    {
      "cell_type": "code",
      "metadata": {
        "id": "Bm9i-50hke3m",
        "colab_type": "code",
        "colab": {
          "base_uri": "https://localhost:8080/",
          "height": 319
        },
        "outputId": "9250efcb-4076-4897-a999-4e3166236f75"
      },
      "source": [
        "from sklearn.metrics import classification_report\n",
        "print(classification_report(y_test,y_pred))"
      ],
      "execution_count": 12,
      "outputs": [
        {
          "output_type": "stream",
          "text": [
            "              precision    recall  f1-score   support\n",
            "\n",
            "           0       0.80      0.76      0.78      1000\n",
            "           1       0.93      0.88      0.91      1000\n",
            "           2       0.73      0.47      0.57      1000\n",
            "           3       0.85      0.73      0.78      1000\n",
            "           4       0.66      0.65      0.65      1000\n",
            "           5       0.90      0.90      0.90      1000\n",
            "           6       0.54      0.16      0.25      1000\n",
            "           7       0.90      0.85      0.87      1000\n",
            "           8       0.94      0.92      0.93      1000\n",
            "           9       0.92      0.94      0.93      1000\n",
            "\n",
            "   micro avg       0.84      0.72      0.78     10000\n",
            "   macro avg       0.82      0.72      0.76     10000\n",
            "weighted avg       0.82      0.72      0.76     10000\n",
            " samples avg       0.72      0.72      0.72     10000\n",
            "\n"
          ],
          "name": "stdout"
        }
      ]
    },
    {
      "cell_type": "code",
      "metadata": {
        "id": "D4543-Cbke3p",
        "colab_type": "code",
        "colab": {
          "base_uri": "https://localhost:8080/",
          "height": 218
        },
        "outputId": "27e20da9-d1d6-43fd-e7bc-7783db00e61f"
      },
      "source": [
        "from sklearn.metrics import accuracy_score, confusion_matrix\n",
        "clf_cfm = confusion_matrix(y_test.argmax(axis=1), y_pred.argmax(axis=1))\n",
        "print(\"Confusion matrix:\")\n",
        "print(clf_cfm, end='\\n\\n')"
      ],
      "execution_count": 13,
      "outputs": [
        {
          "output_type": "stream",
          "text": [
            "Confusion matrix:\n",
            "[[891   5  20  20  10   1  40   0  13   0]\n",
            " [ 59 880   4  49   6   0   0   0   2   0]\n",
            " [331   2 473   5 137   0  41   0  11   0]\n",
            " [170  36  20 727  32   1  11   0   2   1]\n",
            " [232   8  45  24 646   0  38   0   7   0]\n",
            " [ 16   0   0   1   0 897   0  61   4  21]\n",
            " [560  11  82  24 144   2 161   0  16   0]\n",
            " [ 16   0   0   0   0  68   0 851   0  65]\n",
            " [ 45   0   8   5   8  12   5   2 915   0]\n",
            " [ 14   0   0   0   0  12   0  36   0 938]]\n",
            "\n"
          ],
          "name": "stdout"
        }
      ]
    },
    {
      "cell_type": "code",
      "metadata": {
        "id": "jtZRIbgDke3s",
        "colab_type": "code",
        "colab": {
          "base_uri": "https://localhost:8080/",
          "height": 295
        },
        "outputId": "b588e9fc-8457-46e8-dce5-63bd057ce4d0"
      },
      "source": [
        "import matplotlib.pyplot as plt\n",
        "import itertools\n",
        "plt.imshow(clf_cfm, interpolation='nearest')\n",
        "\n",
        "for i, j in itertools.product(range(clf_cfm.shape[0]), range(clf_cfm.shape[1])):\n",
        "    plt.text(j, i, clf_cfm[i, j],\n",
        "             horizontalalignment=\"center\",\n",
        "             color=\"white\")\n",
        "\n",
        "plt.ylabel('True label (Recall)')\n",
        "plt.xlabel('Predicted label (Precision)')\n",
        "plt.title('CNN | Confusion Matrix')\n",
        "plt.colorbar();"
      ],
      "execution_count": 14,
      "outputs": [
        {
          "output_type": "display_data",
          "data": {
            "image/png": "[encoded data removed]",
            "text/plain": [
              "<Figure size 432x288 with 2 Axes>"
            ]
          },
          "metadata": {
            "tags": []
          }
        }
      ]
    }
  ]
}